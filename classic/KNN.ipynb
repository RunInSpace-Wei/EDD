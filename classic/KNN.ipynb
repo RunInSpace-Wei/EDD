{
 "cells": [
  {
   "cell_type": "code",
   "execution_count": 2,
   "metadata": {
    "collapsed": true,
    "ExecuteTime": {
     "start_time": "2023-12-15T15:22:38.280031Z",
     "end_time": "2023-12-15T15:22:40.732882Z"
    }
   },
   "outputs": [],
   "source": [
    "from pyod.models.knn import KNN\n",
    "\n",
    "from ..eval_methods import calc_seq, calc_seq1\n",
    "from ..utils import get_data"
   ]
  },
  {
   "cell_type": "code",
   "execution_count": 10,
   "outputs": [
    {
     "name": "stdout",
     "output_type": "stream",
     "text": [
      "load data of: ETL\n",
      "train:  0 None\n",
      "test:  0 None\n",
      "Data normalized\n",
      "Data normalized\n",
      "train set shape:  (54361, 12)\n",
      "test set shape:  (20881, 12)\n",
      "test set label shape:  (20881,)\n",
      "f1: 0.7207585288077191, precision: 0.5835324086900264, recall: 0.9423868288518856\n",
      "f1: 0.2994196868934353, precision: 0.30452127578584764, recall: 0.2944958840162143\n"
     ]
    }
   ],
   "source": [
    "(train_data, _), (test_data, test_label) = get_data(\"ETL\", normalize=True)\n",
    "clf_name = 'kNN'\n",
    "clf = KNN() # init detector\n",
    "clf.fit(train_data)\n",
    "y_test_pred = clf.predict(test_data)\n",
    "# soft identification result\n",
    "res, _ = calc_seq(y_test_pred, test_label, 0.5)\n",
    "# hard identification result\n",
    "res1, _ = calc_seq1(y_test_pred, test_label, 0.5)\n",
    "print(f\"f1: {res[0]}, precision: {res[1]}, recall: {res[2]}\")\n",
    "print(f\"f1: {res1[0]}, precision: {res1[1]}, recall: {res1[2]}\")"
   ],
   "metadata": {
    "collapsed": false,
    "ExecuteTime": {
     "start_time": "2023-12-15T15:45:11.317097Z",
     "end_time": "2023-12-15T15:45:17.520902Z"
    }
   }
  }
 ],
 "metadata": {
  "kernelspec": {
   "display_name": "Python 3",
   "language": "python",
   "name": "python3"
  },
  "language_info": {
   "codemirror_mode": {
    "name": "ipython",
    "version": 2
   },
   "file_extension": ".py",
   "mimetype": "text/x-python",
   "name": "python",
   "nbconvert_exporter": "python",
   "pygments_lexer": "ipython2",
   "version": "2.7.6"
  }
 },
 "nbformat": 4,
 "nbformat_minor": 0
}
