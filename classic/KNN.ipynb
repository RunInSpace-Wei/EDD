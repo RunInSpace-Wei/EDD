{
 "cells": [
  {
   "cell_type": "code",
   "execution_count": 2,
   "metadata": {
    "collapsed": true,
    "ExecuteTime": {
     "start_time": "2023-12-15T15:22:38.280031Z",
     "end_time": "2023-12-15T15:22:40.732882Z"
    }
   },
   "outputs": [],
   "source": [
    "from utils import get_data\n",
    "from pyod.models.knn import KNN\n",
    "import numpy as np\n",
    "from eval_methods import calc_seq, calc_seq1\n",
    "from tqdm import tqdm"
   ]
  },
  {
   "cell_type": "code",
   "execution_count": 10,
   "outputs": [
    {
     "name": "stdout",
     "output_type": "stream",
     "text": [
      "load data of: ETL\n",
      "train:  0 None\n",
      "test:  0 None\n",
      "Data normalized\n",
      "Data normalized\n",
      "train set shape:  (54361, 12)\n",
      "test set shape:  (20881, 12)\n",
      "test set label shape:  (20881,)\n",
      "f1: 0.7207585288077191, precision: 0.5835324086900264, recall: 0.9423868288518856\n",
      "f1: 0.2994196868934353, precision: 0.30452127578584764, recall: 0.2944958840162143\n"
     ]
    }
   ],
   "source": [
    "(train_data, _), (test_data, test_label) = get_data(\"ETL\", normalize=True)\n",
    "clf_name = 'kNN'\n",
    "clf = KNN() # 初始化检测器clf\n",
    "clf.fit(train_data) # 使用X_train训练检测器clf\n",
    "y_test_pred = clf.predict(test_data)\n",
    "res, _ = calc_seq(y_test_pred, test_label, 0.5)\n",
    "res1, _ = calc_seq1(y_test_pred, test_label, 0.5)\n",
    "print(f\"f1: {res[0]}, precision: {res[1]}, recall: {res[2]}\")\n",
    "print(f\"f1: {res1[0]}, precision: {res1[1]}, recall: {res1[2]}\")"
   ],
   "metadata": {
    "collapsed": false,
    "ExecuteTime": {
     "start_time": "2023-12-15T15:45:11.317097Z",
     "end_time": "2023-12-15T15:45:17.520902Z"
    }
   }
  },
  {
   "cell_type": "code",
   "execution_count": 5,
   "outputs": [],
   "source": [
    " # 返回未知数据上的分类标签 (0: 正常值, 1: 异常值)"
   ],
   "metadata": {
    "collapsed": false,
    "ExecuteTime": {
     "start_time": "2023-12-15T15:26:10.625725Z",
     "end_time": "2023-12-15T15:29:00.975921Z"
    }
   }
  },
  {
   "cell_type": "code",
   "execution_count": 7,
   "outputs": [
    {
     "name": "stdout",
     "output_type": "stream",
     "text": [
      "f1: 0.5875349504118587, precision: 0.4222710372748276, recall: 0.9653618323907265\n",
      "f1: 0.2562840086512509, precision: 0.2052533703662999, recall: 0.3411022400964432\n"
     ]
    }
   ],
   "source": [],
   "metadata": {
    "collapsed": false,
    "ExecuteTime": {
     "start_time": "2023-12-15T15:30:45.847706Z",
     "end_time": "2023-12-15T15:30:45.956715Z"
    }
   }
  },
  {
   "cell_type": "code",
   "execution_count": null,
   "outputs": [],
   "source": [],
   "metadata": {
    "collapsed": false
   }
  }
 ],
 "metadata": {
  "kernelspec": {
   "display_name": "Python 3",
   "language": "python",
   "name": "python3"
  },
  "language_info": {
   "codemirror_mode": {
    "name": "ipython",
    "version": 2
   },
   "file_extension": ".py",
   "mimetype": "text/x-python",
   "name": "python",
   "nbconvert_exporter": "python",
   "pygments_lexer": "ipython2",
   "version": "2.7.6"
  }
 },
 "nbformat": 4,
 "nbformat_minor": 0
}
