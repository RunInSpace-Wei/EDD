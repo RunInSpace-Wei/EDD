{
 "cells": [
  {
   "cell_type": "code",
   "execution_count": 2,
   "metadata": {
    "collapsed": true,
    "ExecuteTime": {
     "start_time": "2023-12-15T15:51:10.963669Z",
     "end_time": "2023-12-15T15:51:11.060670Z"
    }
   },
   "outputs": [],
   "source": [
    "from utils import get_data\n",
    "from pyod.models.iforest import IForest\n",
    "import numpy as np\n",
    "from eval_methods import calc_seq, calc_seq1\n",
    "from tqdm import tqdm"
   ]
  },
  {
   "cell_type": "code",
   "execution_count": 79,
   "outputs": [
    {
     "name": "stdout",
     "output_type": "stream",
     "text": [
      "load data of: MSL\n",
      "train:  0 None\n",
      "test:  0 None\n",
      "Data normalized\n",
      "Data normalized\n",
      "train set shape:  (58317, 55)\n",
      "test set shape:  (73729, 55)\n",
      "test set label shape:  (73729,)\n"
     ]
    },
    {
     "name": "stderr",
     "output_type": "stream",
     "text": [
      "100%|██████████| 100/100 [01:07<00:00,  1.48it/s]"
     ]
    },
    {
     "name": "stdout",
     "output_type": "stream",
     "text": [
      "0.034999999999999996\n",
      "f1: 0.8454787824159189, precision: 0.7618260682071617, recall: 0.9497810958668799\n",
      "f1: 0.049759072646125, precision: 0.10027311704926602, recall: 0.03309296931097995\n"
     ]
    },
    {
     "name": "stderr",
     "output_type": "stream",
     "text": [
      "\n"
     ]
    }
   ],
   "source": [
    "(train_data, _), (test_data, test_label) = get_data(\"MSL\", normalize=True)\n",
    "i = 1\n",
    "max_f1, bf_con = 0, 0.005\n",
    "bf_res, bf_res1 = [], []\n",
    "for i in tqdm(range(100)):\n",
    "    con = 0.005 + i*0.005\n",
    "    isolation_forest = IsolationForest(n_estimators=128, contamination=con, random_state=20)\n",
    "    isolation_forest.fit(train_data)\n",
    "    y_pred = isolation_forest.predict(test_data)\n",
    "    y_pred = -y_pred\n",
    "\n",
    "    res, _ = calc_seq(y_pred, test_label, 0.5)\n",
    "\n",
    "    res1, _ = calc_seq1(y_pred, test_label, 0.5)\n",
    "    if res[0]+res1[0] > max_f1:\n",
    "        bf_con = con\n",
    "        max_f1 = res[0]+res1[0]\n",
    "        bf_res = res\n",
    "        bf_res1 = res1\n",
    "\n",
    "print(bf_con)\n",
    "print(f\"f1: {bf_res[0]}, precision: {bf_res[1]}, recall: {bf_res[2]}\")\n",
    "print(f\"f1: {bf_res1[0]}, precision: {bf_res1[1]}, recall: {bf_res1[2]}\")"
   ],
   "metadata": {
    "collapsed": false,
    "ExecuteTime": {
     "start_time": "2023-12-15T14:55:25.304409Z",
     "end_time": "2023-12-15T14:56:32.882755Z"
    }
   }
  },
  {
   "cell_type": "code",
   "execution_count": 4,
   "outputs": [
    {
     "name": "stdout",
     "output_type": "stream",
     "text": [
      "load data of: MSL\n",
      "train:  0 None\n",
      "test:  0 None\n",
      "Data normalized\n",
      "Data normalized\n",
      "train set shape:  (58317, 55)\n",
      "test set shape:  (73729, 55)\n",
      "test set label shape:  (73729,)\n",
      "f1: 0.7064494043307514, precision: 0.5574832460480393, recall: 0.964074168215202\n",
      "f1: 0.14466952916490403, precision: 0.1524529376034613, recall: 0.13765130036357032\n"
     ]
    }
   ],
   "source": [
    "(train_data, _), (test_data, test_label) = get_data(\"MSL\", normalize=True)\n",
    "clf_name = 'iForest'\n",
    "clf = IForest() # 初始化检测器clf\n",
    "clf.fit(train_data) # 使用X_train训练检测器clf\n",
    "y_test_pred = clf.predict(test_data)\n",
    "res, _ = calc_seq(y_test_pred, test_label, 0.5)\n",
    "res1, _ = calc_seq1(y_test_pred, test_label, 0.5)\n",
    "print(f\"f1: {res[0]}, precision: {res[1]}, recall: {res[2]}\")\n",
    "print(f\"f1: {res1[0]}, precision: {res1[1]}, recall: {res1[2]}\")"
   ],
   "metadata": {
    "collapsed": false,
    "ExecuteTime": {
     "start_time": "2023-12-15T15:54:22.950933Z",
     "end_time": "2023-12-15T15:54:23.762320Z"
    }
   }
  },
  {
   "cell_type": "code",
   "execution_count": null,
   "outputs": [],
   "source": [],
   "metadata": {
    "collapsed": false
   }
  }
 ],
 "metadata": {
  "kernelspec": {
   "display_name": "Python 3",
   "language": "python",
   "name": "python3"
  },
  "language_info": {
   "codemirror_mode": {
    "name": "ipython",
    "version": 2
   },
   "file_extension": ".py",
   "mimetype": "text/x-python",
   "name": "python",
   "nbconvert_exporter": "python",
   "pygments_lexer": "ipython2",
   "version": "2.7.6"
  }
 },
 "nbformat": 4,
 "nbformat_minor": 0
}
