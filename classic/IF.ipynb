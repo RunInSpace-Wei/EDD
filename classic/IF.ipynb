{
 "cells": [
  {
   "cell_type": "code",
   "execution_count": 2,
   "metadata": {
    "collapsed": true,
    "ExecuteTime": {
     "start_time": "2023-12-15T15:51:10.963669Z",
     "end_time": "2023-12-15T15:51:11.060670Z"
    }
   },
   "outputs": [],
   "source": [
    "from ..utils import get_data\n",
    "from pyod.models.iforest import IForest\n",
    "from ..eval_methods import calc_seq, calc_seq1"
   ]
  },
  {
   "cell_type": "code",
   "execution_count": 4,
   "outputs": [
    {
     "name": "stdout",
     "output_type": "stream",
     "text": [
      "load data of: MSL\n",
      "train:  0 None\n",
      "test:  0 None\n",
      "Data normalized\n",
      "Data normalized\n",
      "train set shape:  (58317, 55)\n",
      "test set shape:  (73729, 55)\n",
      "test set label shape:  (73729,)\n",
      "f1: 0.7064494043307514, precision: 0.5574832460480393, recall: 0.964074168215202\n",
      "f1: 0.14466952916490403, precision: 0.1524529376034613, recall: 0.13765130036357032\n"
     ]
    }
   ],
   "source": [
    "# load dataset for training and test.\n",
    "(train_data, _), (test_data, test_label) = get_data(\"MSL\", normalize=True)\n",
    "clf_name = 'iForest'\n",
    "# initialize model\n",
    "clf = IForest()\n",
    "# train model\n",
    "clf.fit(train_data)\n",
    "y_test_pred = clf.predict(test_data)\n",
    "# soft identification result\n",
    "res, _ = calc_seq(y_test_pred, test_label, 0.5)\n",
    "# hard identification result\n",
    "res1, _ = calc_seq1(y_test_pred, test_label, 0.5)\n",
    "print(f\"f1: {res[0]}, precision: {res[1]}, recall: {res[2]}\")\n",
    "print(f\"f1: {res1[0]}, precision: {res1[1]}, recall: {res1[2]}\")"
   ],
   "metadata": {
    "collapsed": false,
    "ExecuteTime": {
     "start_time": "2023-12-15T15:54:22.950933Z",
     "end_time": "2023-12-15T15:54:23.762320Z"
    }
   }
  }
 ],
 "metadata": {
  "kernelspec": {
   "display_name": "Python 3",
   "language": "python",
   "name": "python3"
  },
  "language_info": {
   "codemirror_mode": {
    "name": "ipython",
    "version": 2
   },
   "file_extension": ".py",
   "mimetype": "text/x-python",
   "name": "python",
   "nbconvert_exporter": "python",
   "pygments_lexer": "ipython2",
   "version": "2.7.6"
  }
 },
 "nbformat": 4,
 "nbformat_minor": 0
}
